{
 "cells": [
  {
   "cell_type": "code",
   "execution_count": 1,
   "metadata": {},
   "outputs": [],
   "source": [
    "import numpy as np\n",
    "import pandas as pd\n",
    "import re\n",
    "import string\n",
    "from sklearn.model_selection import train_test_split\n",
    "from sklearn.feature_extraction.text import TfidfVectorizer\n",
    "from sklearn.preprocessing import LabelEncoder\n",
    "from sklearn.linear_model import LogisticRegression\n",
    "from sklearn.ensemble import RandomForestClassifier\n",
    "from sklearn.svm import LinearSVC\n",
    "from sklearn.linear_model import SGDClassifier,RidgeClassifier,PassiveAggressiveClassifier\n",
    "import pickle\n",
    "from sklearn.metrics import precision_recall_fscore_support,accuracy_score\n",
    "from sklearn.calibration import CalibratedClassifierCV\n",
    "from sklearn.model_selection import train_test_split\n",
    "from sklearn.externals import joblib\n",
    "\n"
   ]
  },
  {
   "cell_type": "code",
   "execution_count": 2,
   "metadata": {},
   "outputs": [],
   "source": [
    "data_filepath = \"./finalout_less.csv\"\n",
    "label_freq_threshold = 10\n",
    "cols = ['Resolution','Subject',\n",
    "       'Symptom','ActualService',\n",
    "       'OwnerTeam']"
   ]
  },
  {
   "cell_type": "code",
   "execution_count": 3,
   "metadata": {},
   "outputs": [],
   "source": [
    "def remove_and_dedup_punctuation_numbers(text): \n",
    "    result = text.replace('[\\w\\d\\.-]+@[\\w\\d\\.-]+',' ').replace(\n",
    "    '\\d+', ' ').replace('_+', ' ').replace('+', ' ').replace(\n",
    "    '.', ' ').replace('^https?:\\/\\/.*[\\r\\n]*', '').replace('[^\\w]',' ').lower()\n",
    "    result = re.sub (r'([^a-zA-Z\\s.?!])', '', result)\n",
    "    result = re.sub(r\"([\" + re.escape(string.punctuation) + r\"])\\1+\", r\"\\1\", result)\n",
    "    result = re.sub( '\\s+', ' ', result ).strip()\n",
    "    return result\n",
    "\n",
    "def clean_text(row):\n",
    "    sub = row['Subject']\n",
    "    sym = row['Symptom']\n",
    "    res = row['Resolution']\n",
    "    if row['Subject'] is None:\n",
    "        sub = ''\n",
    "    if row['Symptom'] is None:\n",
    "        sym = ''\n",
    "    if row['Resolution'] is None:\n",
    "        res = ''\n",
    "    train_text = sub+\" \"+sym+\" \"+res\n",
    "    text_clean = remove_and_dedup_punctuation_numbers(train_text)\n",
    "    row[\"Text_Train_Cleaned\"] = text_clean\n",
    "    \n",
    "    test_text = sub+\" \"+sym\n",
    "    text_clean = remove_and_dedup_punctuation_numbers(test_text)\n",
    "    row[\"Text_Test_Cleaned\"] = text_clean\n",
    "    \n",
    "    return row\n",
    "\n",
    "def encode_decision(y):\n",
    "    encoder= LabelEncoder()\n",
    "    encoder.fit(y)\n",
    "    y_encoded=encoder.transform(y)\n",
    "    return y_encoded,encoder"
   ]
  },
  {
   "cell_type": "code",
   "execution_count": 4,
   "metadata": {},
   "outputs": [],
   "source": [
    "class DataPreprocessor(object):\n",
    "    def __init__(self):\n",
    "        pass\n",
    "    \n",
    "    @classmethod\n",
    "    def clean_df(cls,df):\n",
    "        truncated_df_null_removed = df[cols].dropna()\n",
    "        #print(len(truncated_df_null_removed))\n",
    "        df_cleaned = truncated_df_null_removed.apply(clean_text,1)[[\"Text_Train_Cleaned\",\"Text_Test_Cleaned\",\"OwnerTeam\",\"ActualService\"]]\n",
    "        #print(len(df_cleaned))\n",
    "        training_dataframe = df_cleaned.groupby([\"ActualService\",\"OwnerTeam\"]).filter(lambda x: len(x) > label_freq_threshold)\n",
    "        #print(len(training_dataframe))\n",
    "        return training_dataframe\n",
    "      \n",
    "    @classmethod\n",
    "    def create_train_test_df(cls,df):\n",
    "        y = df[[\"ActualService\",\"OwnerTeam\"]].as_matrix()\n",
    "        train_dataframe, test_dataframe = train_test_split(df,test_size=0.2,stratify=y,random_state=0)\n",
    "        return train_dataframe,test_dataframe"
   ]
  },
  {
   "cell_type": "code",
   "execution_count": 5,
   "metadata": {},
   "outputs": [],
   "source": [
    "class TeamPredictionModel(object):\n",
    "    def __init__(self,best_model,best_acc,vectorizer,encoder):\n",
    "        self.best_model = best_model\n",
    "        self.best_acc = best_acc\n",
    "        self.vectorizer = vectorizer\n",
    "        self.encoder = encoder\n",
    "    \n",
    "    @classmethod\n",
    "    def train(cls,train_dataframe,test_dataframe,target_column):\n",
    "        vectorizer = TfidfVectorizer( lowercase=True, sublinear_tf=True,ngram_range=(1,3),min_df=2,max_df=0.95,\n",
    "                              stop_words='english')\n",
    "\n",
    "        X_train = vectorizer.fit_transform(train_dataframe[\"Text_Train_Cleaned\"])\n",
    "        print(len(vectorizer.get_feature_names()) )\n",
    "        print(X_train.shape)\n",
    "        \n",
    "        train_label = train_dataframe[target_column].as_matrix()\n",
    "        Y_train,encoder = encode_decision(train_label)\n",
    "\n",
    "        X_test = vectorizer.transform(test_dataframe[\"Text_Test_Cleaned\"])\n",
    "        print(X_test.shape)\n",
    "\n",
    "        test_label = test_dataframe[target_column].as_matrix()\n",
    "        Y_test = encoder.transform(test_label)\n",
    "\n",
    "        clf_LR = LogisticRegression(random_state=0,multi_class='ovr')\n",
    "        clf_RF = RandomForestClassifier(n_estimators=90, random_state=0, n_jobs=-1,max_depth=11,min_samples_leaf=8)\n",
    "        clf_SVM = LinearSVC(penalty='l2', tol=1e-4,loss='hinge',max_iter=10,multi_class=\"ovr\",class_weight='balanced')\n",
    "        clf_SGD_l2 = SGDClassifier(loss='hinge',alpha=.0001, max_iter=10,  penalty='l2')\n",
    "        clf_SGD_elastic = SGDClassifier(alpha=.0001, max_iter=10,n_jobs=-1, penalty=\"elasticnet\")\n",
    "        clf_ridge = RidgeClassifier(tol=1e-2, solver=\"sag\",random_state=0)\n",
    "        clf_pass = PassiveAggressiveClassifier(max_iter=50)\n",
    "        classifiers = [clf_LR,clf_RF,clf_SVM,clf_SGD_l2,clf_SGD_elastic,clf_ridge,clf_pass]\n",
    "        \n",
    "        best_model = None\n",
    "        best_acc = -100\n",
    "        for clf in classifiers:\n",
    "            model,acc = cls.model_stat(clf,X_train,Y_train,X_test,Y_test)\n",
    "            if acc > best_acc:\n",
    "                best_acc = acc\n",
    "                best_model = model\n",
    "            print(acc)\n",
    "        return TeamPredictionModel(best_model,best_acc,vectorizer,encoder)\n",
    "    \n",
    "    @classmethod\n",
    "    def model_stat(cls,model,X_train,Y_train,X_test,Y_test):\n",
    "        clf_isotonic = CalibratedClassifierCV(model, cv=3, method='isotonic')\n",
    "        clf_isotonic.fit(X_train, Y_train)\n",
    "        Y_pred = clf_isotonic.predict(X_test)\n",
    "        return clf_isotonic,accuracy_score(Y_test, Y_pred)\n",
    "    \n",
    "    \n",
    "    def save(self,filepath):\n",
    "        model_dict = {\"model\":self.best_model,\n",
    "                      \"accuracy\":self.best_acc,\n",
    "                      \"vectorizer\":self.vectorizer,\n",
    "                      \"encoder\":self.encoder}\n",
    "        with open(filepath,\"wb\") as fp:\n",
    "            pickle.dump(model_dict,fp,pickle.HIGHEST_PROTOCOL)\n",
    "        "
   ]
  },
  {
   "cell_type": "code",
   "execution_count": 6,
   "metadata": {},
   "outputs": [
    {
     "name": "stdout",
     "output_type": "stream",
     "text": [
      "177724\n",
      "(14557, 177724)\n",
      "(3640, 177724)\n",
      "0.6510989010989011\n",
      "0.6041208791208791\n",
      "0.6458791208791209\n",
      "0.657967032967033\n",
      "0.6574175824175824\n",
      "0.6576923076923077\n",
      "0.65\n"
     ]
    }
   ],
   "source": [
    "input_df = pd.read_csv(data_filepath)\n",
    "c_df = DataPreprocessor.clean_df(input_df)\n",
    "train,test = DataPreprocessor.create_train_test_df(c_df)\n",
    "service_pred_model = TeamPredictionModel.train(train,test,\"ActualService\")"
   ]
  },
  {
   "cell_type": "code",
   "execution_count": 7,
   "metadata": {},
   "outputs": [],
   "source": [
    "service_pred_model.save(\"./service_model.pkl\")"
   ]
  },
  {
   "cell_type": "code",
   "execution_count": 8,
   "metadata": {},
   "outputs": [],
   "source": [
    "model_dict = joblib.load(\"./service_model.pkl\")"
   ]
  },
  {
   "cell_type": "code",
   "execution_count": 9,
   "metadata": {},
   "outputs": [],
   "source": [
    "def score(model_dict,subject,symptom):\n",
    "    text = subject + \" \" + symptom\n",
    "    text_cleaned = [remove_and_dedup_punctuation_numbers(text)]\n",
    "    text_vectorized = model_dict[\"vectorizer\"].transform(text_cleaned)\n",
    "    result = model_dict[\"model\"].predict_proba(text_vectorized)\n",
    "    label_index = np.argmax(result)\n",
    "    label = model_dict[\"encoder\"].inverse_transform(label_index)\n",
    "    confidence = result[0][label_index]\n",
    "    response = {\"service\":label,\"confidence\":confidence}\n",
    "    return response"
   ]
  },
  {
   "cell_type": "code",
   "execution_count": 10,
   "metadata": {},
   "outputs": [],
   "source": [
    "subject = \"Request for Former Lumension reporting access\"\n",
    "symptom = \"ann.haehn@heatsoftware.com www.HEATsoftware.com (AutoClosed)te instance as well as access to the SSRS report cloud site for Lumension reports. Thank you\"\n"
   ]
  },
  {
   "cell_type": "code",
   "execution_count": 11,
   "metadata": {},
   "outputs": [
    {
     "name": "stderr",
     "output_type": "stream",
     "text": [
      "/Library/Frameworks/Python.framework/Versions/3.5/lib/python3.5/site-packages/sklearn/preprocessing/label.py:151: DeprecationWarning: The truth value of an empty array is ambiguous. Returning False, but in future this will result in an error. Use `array.size > 0` to check that an array is not empty.\n",
      "  if diff:\n"
     ]
    },
    {
     "data": {
      "text/plain": [
       "{'confidence': 0.2998423027049654, 'service': 'Service Desk'}"
      ]
     },
     "execution_count": 11,
     "metadata": {},
     "output_type": "execute_result"
    }
   ],
   "source": [
    "score(model_dict,subject,symptom)"
   ]
  },
  {
   "cell_type": "code",
   "execution_count": null,
   "metadata": {},
   "outputs": [],
   "source": []
  }
 ],
 "metadata": {
  "kernelspec": {
   "display_name": "Python 3",
   "language": "python",
   "name": "python3"
  },
  "language_info": {
   "codemirror_mode": {
    "name": "ipython",
    "version": 3
   },
   "file_extension": ".py",
   "mimetype": "text/x-python",
   "name": "python",
   "nbconvert_exporter": "python",
   "pygments_lexer": "ipython3",
   "version": "3.5.2"
  }
 },
 "nbformat": 4,
 "nbformat_minor": 2
}
